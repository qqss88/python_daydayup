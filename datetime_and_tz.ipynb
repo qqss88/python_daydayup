{
 "cells": [
  {
   "cell_type": "code",
   "execution_count": 1,
   "metadata": {},
   "outputs": [
    {
     "name": "stdout",
     "output_type": "stream",
     "text": [
      "utcmoment_naive: 2018-10-30 15:10:26.773348\n",
      "utcmoment:       2018-10-30 15:10:26.773348+00:00\n"
     ]
    }
   ],
   "source": [
    "from datetime import datetime\n",
    "import pytz\n",
    "\n",
    "utcmoment_naive = datetime.utcnow()\n",
    "utcmoment = utcmoment_naive.replace(tzinfo=pytz.utc)\n",
    "\n",
    "# print \"utcmoment_naive: {0}\".format(utcmoment_naive) # python 2\n",
    "print(\"utcmoment_naive: {0}\".format(utcmoment_naive))\n",
    "print(\"utcmoment:       {0}\".format(utcmoment))"
   ]
  },
  {
   "cell_type": "code",
   "execution_count": 2,
   "metadata": {},
   "outputs": [
    {
     "name": "stdout",
     "output_type": "stream",
     "text": [
      "2018-10-30 08:10:26\n",
      "2018-10-30 16:10:26\n",
      "2018-10-30 11:10:26\n"
     ]
    }
   ],
   "source": [
    "localFormat = \"%Y-%m-%d %H:%M:%S\"\n",
    "timezones = ['America/Los_Angeles', 'Europe/Madrid', 'America/Puerto_Rico']\n",
    "for tz in timezones:\n",
    "    localDatetime = utcmoment.astimezone(pytz.timezone(tz))\n",
    "    print(localDatetime.strftime(localFormat))"
   ]
  },
  {
   "cell_type": "code",
   "execution_count": 5,
   "metadata": {},
   "outputs": [
    {
     "name": "stdout",
     "output_type": "stream",
     "text": [
      "2018-09-06 14:05:10-04:00\n",
      "2018-09-06 18:05:10+00:00\n"
     ]
    }
   ],
   "source": [
    "# add timezone info to local naive time\n",
    "localmoment_naive = datetime.strptime('2018-09-06 14:05:10', localFormat)\n",
    "localtimezone = pytz.timezone('US/Eastern')\n",
    "\n",
    "try:\n",
    "    localmoment = localtimezone.localize(localmoment_naive, is_dst=None)\n",
    "    print(localmoment)\n",
    "    # print(\"Time exists\")\n",
    "    utcmoment = localmoment.astimezone(pytz.utc)\n",
    "    print(utcmoment)\n",
    "except pytz.exceptions.NonExistentTimeError as e:\n",
    "    print(\"NonExistentTimeError\")"
   ]
  },
  {
   "cell_type": "code",
   "execution_count": 7,
   "metadata": {},
   "outputs": [
    {
     "name": "stdout",
     "output_type": "stream",
     "text": [
      "2018-10-30 15:18:02 UTC+0000\n",
      "2018-10-30 11:18:02 EDT-0400\n",
      "2018-10-30 16:18:02 CET+0100\n"
     ]
    }
   ],
   "source": [
    "from datetime import datetime\n",
    "from pytz import timezone\n",
    "\n",
    "fmt = \"%Y-%m-%d %H:%M:%S %Z%z\"\n",
    "timezonelist = ['UTC','US/Eastern','Europe/Berlin']\n",
    "for zone in timezonelist:\n",
    "\n",
    "    now_time = datetime.now(timezone(zone))\n",
    "    print(now_time.strftime(fmt))"
   ]
  },
  {
   "cell_type": "code",
   "execution_count": 4,
   "metadata": {},
   "outputs": [],
   "source": [
    "import datetime\n",
    "import pytz\n",
    "\n",
    "# convert a datetime string from local to another timezone\n",
    "def convert_datetime_timezone(dt, tz1, tz2):\n",
    "    \"\"\"\n",
    "    dt: datetime string\n",
    "    tz1: timezone 1\n",
    "    tz2: timezone 2\n",
    "    \"\"\"\n",
    "    tz1 = pytz.timezone(tz1)\n",
    "    tz2 = pytz.timezone(tz2)\n",
    "\n",
    "    dt = datetime.datetime.strptime(dt,\"%Y-%m-%d %H:%M:%S\")\n",
    "    dt = tz1.localize(dt)\n",
    "    dt = dt.astimezone(tz2)\n",
    "    dt = dt.strftime(\"%Y-%m-%d %H:%M:%S %Z\")\n",
    "\n",
    "    return dt"
   ]
  },
  {
   "cell_type": "code",
   "execution_count": 5,
   "metadata": {},
   "outputs": [
    {
     "data": {
      "text/plain": [
       "'2017-05-13 10:56:32 EDT'"
      ]
     },
     "execution_count": 5,
     "metadata": {},
     "output_type": "execute_result"
    }
   ],
   "source": [
    "convert_datetime_timezone(\"2017-05-13 14:56:32\", \"UTC\", \"US/Eastern\")"
   ]
  },
  {
   "cell_type": "code",
   "execution_count": 9,
   "metadata": {},
   "outputs": [
    {
     "name": "stdout",
     "output_type": "stream",
     "text": [
      "America/New_York\n",
      "2018-10-30 11:43:35.200069-04:00\n"
     ]
    }
   ],
   "source": [
    "from datetime import datetime\n",
    "import tzlocal  # $ pip install tzlocal\n",
    "\n",
    "local_timezone = tzlocal.get_localzone()\n",
    "print(local_timezone)\n",
    "aware_dt = datetime.now(local_timezone)\n",
    "print(aware_dt)"
   ]
  },
  {
   "cell_type": "code",
   "execution_count": 12,
   "metadata": {},
   "outputs": [
    {
     "name": "stdout",
     "output_type": "stream",
     "text": [
      "2017-05-13 14:56:32-04:00\n"
     ]
    }
   ],
   "source": [
    "time_string = '2017-05-13 14:56:32'\n",
    "time_format = '%Y-%m-%d %H:%M:%S'\n",
    "naive_dt = datetime.strptime(time_string, time_format)\n",
    "aware_dt = local_timezone.localize(naive_dt, is_dst=None)\n",
    "print(aware_dt)"
   ]
  },
  {
   "cell_type": "code",
   "execution_count": 19,
   "metadata": {},
   "outputs": [
    {
     "name": "stdout",
     "output_type": "stream",
     "text": [
      "timezone:Europe/Paris, local time:1996-03-25T17:03:00+01:00\n",
      "timezone:Europe/Moscow, local time:1996-03-25T19:03:00+03:00\n",
      "timezone:America/Toronto, local time:1996-03-25T11:03:00-05:00\n",
      "timezone:UTC, local time:1996-03-25T16:03:00+00:00\n",
      "timezone:Canada/Pacific, local time:1996-03-25T08:03:00-08:00\n",
      "timezone:Asia/Macao, local time:1996-03-26T00:03:00+08:00\n"
     ]
    }
   ],
   "source": [
    "import pendulum\n",
    "some_time_zones = ['Europe/Paris', 'Europe/Moscow', 'America/Toronto', 'UTC', 'Canada/Pacific', 'Asia/Macao']\n",
    "heres_a_time = '1996-03-25 12:03 -0400'\n",
    "pendulum_time = pendulum.from_format('1996-03-25 12:03 -0400', 'YYYY-MM-DD hh:mm ZZ')\n",
    "# heres_a_time = '2017-05-13 14:56:32'\n",
    "# pendulum_time = pendulum.from_format(heres_a_time, '%Y-%m-%d %H:%M:%S')\n",
    "for tz in some_time_zones:\n",
    "    print('timezone:{}, local time:{}'.format(tz, pendulum_time.in_tz(tz)))"
   ]
  }
 ],
 "metadata": {
  "kernelspec": {
   "display_name": "Python 3",
   "language": "python",
   "name": "python3"
  },
  "language_info": {
   "codemirror_mode": {
    "name": "ipython",
    "version": 3
   },
   "file_extension": ".py",
   "mimetype": "text/x-python",
   "name": "python",
   "nbconvert_exporter": "python",
   "pygments_lexer": "ipython3",
   "version": "3.6.5"
  }
 },
 "nbformat": 4,
 "nbformat_minor": 2
}
